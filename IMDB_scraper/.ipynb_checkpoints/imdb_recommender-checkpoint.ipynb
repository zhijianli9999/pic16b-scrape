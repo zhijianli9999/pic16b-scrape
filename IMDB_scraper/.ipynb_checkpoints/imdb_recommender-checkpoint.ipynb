{
 "cells": [
  {
   "cell_type": "markdown",
   "id": "8dda12bf",
   "metadata": {},
   "source": [
    "# Web scraping with scrapy"
   ]
  },
  {
   "cell_type": "markdown",
   "id": "ae38c86e",
   "metadata": {},
   "source": [
    "In this post, we'll be making a web scraper - a tool that extracts data from webpages. Suppose we want to find out which movies share the most number of actors with our favorite movie, say, *The Shawshank Redemption*. A good place to find this information is [IMDB](https://imdb.com), which has \n",
    "1. movie pages containing its cast list, and \n",
    "2. actor pages that list their filmography.\n",
    "\n",
    "How would we go about finding which movies share the largest number of actors with *Shawshank*? We would:\n",
    "1. Start from IMDB's movie page for *The Shawshank Redemption*: https://www.imdb.com/title/tt0111161/\n",
    "2. For each actor in its cast list, go to the actors page and collect all the titles in their filmography.\n",
    "3. See which other movies appear the most frequently amongst the collected titles.\n",
    "\n",
    "The `scrapy` `spider` described below will automate steps 1 and 2. The set-up is a bit different this time - instead of a notebook we're writing this in a `.py` script and running it in the terminal. \n"
   ]
  },
  {
   "cell_type": "code",
   "execution_count": 73,
   "id": "e0e69f7c",
   "metadata": {},
   "outputs": [
    {
     "ename": "ModuleNotFoundError",
     "evalue": "No module named 'scrapy'",
     "output_type": "error",
     "traceback": [
      "\u001b[0;31m---------------------------------------------------------------------------\u001b[0m",
      "\u001b[0;31mModuleNotFoundError\u001b[0m                       Traceback (most recent call last)",
      "\u001b[0;32m/var/folders/kw/z3dvp6t117z3txd6yd2mlzkc0000gn/T/ipykernel_35009/1365091318.py\u001b[0m in \u001b[0;36m<module>\u001b[0;34m\u001b[0m\n\u001b[0;32m----> 1\u001b[0;31m \u001b[0;32mimport\u001b[0m \u001b[0mscrapy\u001b[0m\u001b[0;34m\u001b[0m\u001b[0;34m\u001b[0m\u001b[0m\n\u001b[0m",
      "\u001b[0;31mModuleNotFoundError\u001b[0m: No module named 'scrapy'"
     ]
    }
   ],
   "source": [
    "import scrapy"
   ]
  },
  {
   "cell_type": "code",
   "execution_count": null,
   "id": "a4277926",
   "metadata": {},
   "outputs": [],
   "source": [
    "class ImdbSpider(scrapy.Spider):\n",
    "    name = 'imdb_spider'\n",
    "    # starting show: The Shawshank Redemption\n",
    "    start_urls = ['https://www.imdb.com/title/tt0111161/']\n",
    "\n",
    "    def parse(self, response):\n",
    "        \"\"\"\n",
    "        from a movie page, navigate to the Cast & Crew page\n",
    "        then call parse_full_credits(self,response) on the credits\n",
    "        \"\"\"\n",
    "        credit_url = response.url + \"fullcredits\"\n",
    "        yield scrapy.Request(credit_url, callback=self.parse_full_credits)\n",
    "\n",
    "    def parse_full_credits(self, response):\n",
    "        \"\"\"\n",
    "        from Cast & Crew page, yield a scrapy.Request for the\n",
    "        page of each actor with parse_actor_page(self, response)\n",
    "        \"\"\"\n",
    "        actor_list = [\"https://imdb.com\" + a.attrib[\"href\"]\n",
    "                      for a in response.css(\"td.primary_photo a\")]\n",
    "        for actor_url in actor_list:\n",
    "            yield scrapy.Request(actor_url, callback=self.parse_actor_page)\n",
    "\n",
    "    def parse_actor_page(self, response):\n",
    "        \"\"\"\n",
    "        for each movie/show on the actor page, return a dictionary\n",
    "        of the form {\"actor\" : actor_name, \"movie_or_TV_name\" :\n",
    "        movie_or_TV_name}.\n",
    "        \"\"\"\n",
    "        # select name of actor\n",
    "        n = response.css(\"div.article.name-overview span.itemprop::text\").get()\n",
    "        # all_films includes all films credited as actor or other roles\n",
    "        all_films = response.css(\"div.filmo-row\")\n",
    "        # filter only those credited as actor\n",
    "        films = [f.css('b a::text').get()\n",
    "                 for f in all_films if f.attrib['id'].split('-')[0] == 'actor']\n",
    "        for film in films:\n",
    "            yield {\"actor\": n, \"movie_or_TV_name\": film}\n",
    "\n",
    "# scrapy crawl imdb_spider -o results.csv"
   ]
  },
  {
   "cell_type": "code",
   "execution_count": 69,
   "id": "bc6acc51",
   "metadata": {},
   "outputs": [],
   "source": [
    "import pandas as pd\n",
    "import numpy as np"
   ]
  },
  {
   "cell_type": "code",
   "execution_count": 70,
   "id": "48873d2c",
   "metadata": {},
   "outputs": [],
   "source": [
    "results = pd.read_csv('results.csv')"
   ]
  },
  {
   "cell_type": "code",
   "execution_count": 71,
   "id": "2ddf173d",
   "metadata": {},
   "outputs": [],
   "source": [
    "ranking = results.groupby(\"movie_or_TV_name\").size().reset_index(name='counts')\n",
    "ranking = ranking.sort_values(by='counts',ascending=False).reset_index(drop=True)"
   ]
  },
  {
   "cell_type": "code",
   "execution_count": 72,
   "id": "501b8f92",
   "metadata": {},
   "outputs": [
    {
     "data": {
      "text/html": [
       "<div>\n",
       "<style scoped>\n",
       "    .dataframe tbody tr th:only-of-type {\n",
       "        vertical-align: middle;\n",
       "    }\n",
       "\n",
       "    .dataframe tbody tr th {\n",
       "        vertical-align: top;\n",
       "    }\n",
       "\n",
       "    .dataframe thead th {\n",
       "        text-align: right;\n",
       "    }\n",
       "</style>\n",
       "<table border=\"1\" class=\"dataframe\">\n",
       "  <thead>\n",
       "    <tr style=\"text-align: right;\">\n",
       "      <th></th>\n",
       "      <th>movie_or_TV_name</th>\n",
       "      <th>counts</th>\n",
       "    </tr>\n",
       "  </thead>\n",
       "  <tbody>\n",
       "    <tr>\n",
       "      <th>0</th>\n",
       "      <td>The Shawshank Redemption</td>\n",
       "      <td>65</td>\n",
       "    </tr>\n",
       "    <tr>\n",
       "      <th>1</th>\n",
       "      <td>ER</td>\n",
       "      <td>11</td>\n",
       "    </tr>\n",
       "    <tr>\n",
       "      <th>2</th>\n",
       "      <td>Law &amp; Order</td>\n",
       "      <td>10</td>\n",
       "    </tr>\n",
       "    <tr>\n",
       "      <th>3</th>\n",
       "      <td>CSI: Crime Scene Investigation</td>\n",
       "      <td>10</td>\n",
       "    </tr>\n",
       "    <tr>\n",
       "      <th>4</th>\n",
       "      <td>The West Wing</td>\n",
       "      <td>9</td>\n",
       "    </tr>\n",
       "    <tr>\n",
       "      <th>5</th>\n",
       "      <td>NYPD Blue</td>\n",
       "      <td>9</td>\n",
       "    </tr>\n",
       "    <tr>\n",
       "      <th>6</th>\n",
       "      <td>Cold Case</td>\n",
       "      <td>9</td>\n",
       "    </tr>\n",
       "    <tr>\n",
       "      <th>7</th>\n",
       "      <td>The Practice</td>\n",
       "      <td>9</td>\n",
       "    </tr>\n",
       "    <tr>\n",
       "      <th>8</th>\n",
       "      <td>The Twilight Zone</td>\n",
       "      <td>8</td>\n",
       "    </tr>\n",
       "    <tr>\n",
       "      <th>9</th>\n",
       "      <td>L.A. Law</td>\n",
       "      <td>8</td>\n",
       "    </tr>\n",
       "  </tbody>\n",
       "</table>\n",
       "</div>"
      ],
      "text/plain": [
       "                 movie_or_TV_name  counts\n",
       "0        The Shawshank Redemption      65\n",
       "1                              ER      11\n",
       "2                     Law & Order      10\n",
       "3  CSI: Crime Scene Investigation      10\n",
       "4                   The West Wing       9\n",
       "5                       NYPD Blue       9\n",
       "6                       Cold Case       9\n",
       "7                    The Practice       9\n",
       "8               The Twilight Zone       8\n",
       "9                        L.A. Law       8"
      ]
     },
     "execution_count": 72,
     "metadata": {},
     "output_type": "execute_result"
    }
   ],
   "source": [
    "ranking[0:10]"
   ]
  },
  {
   "cell_type": "code",
   "execution_count": null,
   "id": "dbdd84f3",
   "metadata": {},
   "outputs": [],
   "source": []
  }
 ],
 "metadata": {
  "kernelspec": {
   "display_name": "Python 3 (ipykernel)",
   "language": "python",
   "name": "python3"
  },
  "language_info": {
   "codemirror_mode": {
    "name": "ipython",
    "version": 3
   },
   "file_extension": ".py",
   "mimetype": "text/x-python",
   "name": "python",
   "nbconvert_exporter": "python",
   "pygments_lexer": "ipython3",
   "version": "3.9.7"
  }
 },
 "nbformat": 4,
 "nbformat_minor": 5
}
